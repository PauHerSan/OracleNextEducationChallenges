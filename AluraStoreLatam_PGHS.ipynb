{
  "nbformat": 4,
  "nbformat_minor": 0,
  "metadata": {
    "colab": {
      "provenance": []
    },
    "kernelspec": {
      "name": "python3",
      "display_name": "Python 3"
    },
    "language_info": {
      "name": "python"
    }
  },
  "cells": [
    {
      "cell_type": "markdown",
      "source": [
        "### Importación de datos\n",
        "\n"
      ],
      "metadata": {
        "id": "RhEdWd9YUR6H"
      }
    },
    {
      "cell_type": "code",
      "execution_count": 1,
      "metadata": {
        "colab": {
          "base_uri": "https://localhost:8080/",
          "height": 379
        },
        "id": "T3EvaeQ_INIL",
        "outputId": "4704aaff-6414-4695-c165-18dcf221b350"
      },
      "outputs": [
        {
          "output_type": "execute_result",
          "data": {
            "text/plain": [
              "            Producto Categoría del Producto    Precio  Costo de envío  \\\n",
              "0  Asistente virtual           Electrónicos  164300.0          6900.0   \n",
              "1    Mesa de comedor                Muebles  192300.0          8400.0   \n",
              "2      Juego de mesa               Juguetes  209600.0         15900.0   \n",
              "3         Microondas      Electrodomésticos  757500.0         41000.0   \n",
              "4   Silla de oficina                Muebles  335200.0         20200.0   \n",
              "\n",
              "  Fecha de Compra         Vendedor Lugar de Compra  Calificación  \\\n",
              "0      16/01/2021      Pedro Gomez          Bogotá             4   \n",
              "1      18/05/2022  Beatriz Morales        Medellín             1   \n",
              "2      15/03/2021   Juan Fernandez       Cartagena             1   \n",
              "3      03/05/2022   Juan Fernandez            Cali             4   \n",
              "4      07/11/2020    Maria Alfonso        Medellín             5   \n",
              "\n",
              "       Método de pago  Cantidad de cuotas       lat       lon  \n",
              "0  Tarjeta de crédito                   8   4.60971 -74.08175  \n",
              "1  Tarjeta de crédito                   4   6.25184 -75.56359  \n",
              "2  Tarjeta de crédito                   1  10.39972 -75.51444  \n",
              "3               Nequi                   1   3.43722 -76.52250  \n",
              "4               Nequi                   1   6.25184 -75.56359  "
            ],
            "text/html": [
              "\n",
              "  <div id=\"df-e51360d6-6184-4e89-afa5-b682876f0ecc\" class=\"colab-df-container\">\n",
              "    <div>\n",
              "<style scoped>\n",
              "    .dataframe tbody tr th:only-of-type {\n",
              "        vertical-align: middle;\n",
              "    }\n",
              "\n",
              "    .dataframe tbody tr th {\n",
              "        vertical-align: top;\n",
              "    }\n",
              "\n",
              "    .dataframe thead th {\n",
              "        text-align: right;\n",
              "    }\n",
              "</style>\n",
              "<table border=\"1\" class=\"dataframe\">\n",
              "  <thead>\n",
              "    <tr style=\"text-align: right;\">\n",
              "      <th></th>\n",
              "      <th>Producto</th>\n",
              "      <th>Categoría del Producto</th>\n",
              "      <th>Precio</th>\n",
              "      <th>Costo de envío</th>\n",
              "      <th>Fecha de Compra</th>\n",
              "      <th>Vendedor</th>\n",
              "      <th>Lugar de Compra</th>\n",
              "      <th>Calificación</th>\n",
              "      <th>Método de pago</th>\n",
              "      <th>Cantidad de cuotas</th>\n",
              "      <th>lat</th>\n",
              "      <th>lon</th>\n",
              "    </tr>\n",
              "  </thead>\n",
              "  <tbody>\n",
              "    <tr>\n",
              "      <th>0</th>\n",
              "      <td>Asistente virtual</td>\n",
              "      <td>Electrónicos</td>\n",
              "      <td>164300.0</td>\n",
              "      <td>6900.0</td>\n",
              "      <td>16/01/2021</td>\n",
              "      <td>Pedro Gomez</td>\n",
              "      <td>Bogotá</td>\n",
              "      <td>4</td>\n",
              "      <td>Tarjeta de crédito</td>\n",
              "      <td>8</td>\n",
              "      <td>4.60971</td>\n",
              "      <td>-74.08175</td>\n",
              "    </tr>\n",
              "    <tr>\n",
              "      <th>1</th>\n",
              "      <td>Mesa de comedor</td>\n",
              "      <td>Muebles</td>\n",
              "      <td>192300.0</td>\n",
              "      <td>8400.0</td>\n",
              "      <td>18/05/2022</td>\n",
              "      <td>Beatriz Morales</td>\n",
              "      <td>Medellín</td>\n",
              "      <td>1</td>\n",
              "      <td>Tarjeta de crédito</td>\n",
              "      <td>4</td>\n",
              "      <td>6.25184</td>\n",
              "      <td>-75.56359</td>\n",
              "    </tr>\n",
              "    <tr>\n",
              "      <th>2</th>\n",
              "      <td>Juego de mesa</td>\n",
              "      <td>Juguetes</td>\n",
              "      <td>209600.0</td>\n",
              "      <td>15900.0</td>\n",
              "      <td>15/03/2021</td>\n",
              "      <td>Juan Fernandez</td>\n",
              "      <td>Cartagena</td>\n",
              "      <td>1</td>\n",
              "      <td>Tarjeta de crédito</td>\n",
              "      <td>1</td>\n",
              "      <td>10.39972</td>\n",
              "      <td>-75.51444</td>\n",
              "    </tr>\n",
              "    <tr>\n",
              "      <th>3</th>\n",
              "      <td>Microondas</td>\n",
              "      <td>Electrodomésticos</td>\n",
              "      <td>757500.0</td>\n",
              "      <td>41000.0</td>\n",
              "      <td>03/05/2022</td>\n",
              "      <td>Juan Fernandez</td>\n",
              "      <td>Cali</td>\n",
              "      <td>4</td>\n",
              "      <td>Nequi</td>\n",
              "      <td>1</td>\n",
              "      <td>3.43722</td>\n",
              "      <td>-76.52250</td>\n",
              "    </tr>\n",
              "    <tr>\n",
              "      <th>4</th>\n",
              "      <td>Silla de oficina</td>\n",
              "      <td>Muebles</td>\n",
              "      <td>335200.0</td>\n",
              "      <td>20200.0</td>\n",
              "      <td>07/11/2020</td>\n",
              "      <td>Maria Alfonso</td>\n",
              "      <td>Medellín</td>\n",
              "      <td>5</td>\n",
              "      <td>Nequi</td>\n",
              "      <td>1</td>\n",
              "      <td>6.25184</td>\n",
              "      <td>-75.56359</td>\n",
              "    </tr>\n",
              "  </tbody>\n",
              "</table>\n",
              "</div>\n",
              "    <div class=\"colab-df-buttons\">\n",
              "\n",
              "  <div class=\"colab-df-container\">\n",
              "    <button class=\"colab-df-convert\" onclick=\"convertToInteractive('df-e51360d6-6184-4e89-afa5-b682876f0ecc')\"\n",
              "            title=\"Convert this dataframe to an interactive table.\"\n",
              "            style=\"display:none;\">\n",
              "\n",
              "  <svg xmlns=\"http://www.w3.org/2000/svg\" height=\"24px\" viewBox=\"0 -960 960 960\">\n",
              "    <path d=\"M120-120v-720h720v720H120Zm60-500h600v-160H180v160Zm220 220h160v-160H400v160Zm0 220h160v-160H400v160ZM180-400h160v-160H180v160Zm440 0h160v-160H620v160ZM180-180h160v-160H180v160Zm440 0h160v-160H620v160Z\"/>\n",
              "  </svg>\n",
              "    </button>\n",
              "\n",
              "  <style>\n",
              "    .colab-df-container {\n",
              "      display:flex;\n",
              "      gap: 12px;\n",
              "    }\n",
              "\n",
              "    .colab-df-convert {\n",
              "      background-color: #E8F0FE;\n",
              "      border: none;\n",
              "      border-radius: 50%;\n",
              "      cursor: pointer;\n",
              "      display: none;\n",
              "      fill: #1967D2;\n",
              "      height: 32px;\n",
              "      padding: 0 0 0 0;\n",
              "      width: 32px;\n",
              "    }\n",
              "\n",
              "    .colab-df-convert:hover {\n",
              "      background-color: #E2EBFA;\n",
              "      box-shadow: 0px 1px 2px rgba(60, 64, 67, 0.3), 0px 1px 3px 1px rgba(60, 64, 67, 0.15);\n",
              "      fill: #174EA6;\n",
              "    }\n",
              "\n",
              "    .colab-df-buttons div {\n",
              "      margin-bottom: 4px;\n",
              "    }\n",
              "\n",
              "    [theme=dark] .colab-df-convert {\n",
              "      background-color: #3B4455;\n",
              "      fill: #D2E3FC;\n",
              "    }\n",
              "\n",
              "    [theme=dark] .colab-df-convert:hover {\n",
              "      background-color: #434B5C;\n",
              "      box-shadow: 0px 1px 3px 1px rgba(0, 0, 0, 0.15);\n",
              "      filter: drop-shadow(0px 1px 2px rgba(0, 0, 0, 0.3));\n",
              "      fill: #FFFFFF;\n",
              "    }\n",
              "  </style>\n",
              "\n",
              "    <script>\n",
              "      const buttonEl =\n",
              "        document.querySelector('#df-e51360d6-6184-4e89-afa5-b682876f0ecc button.colab-df-convert');\n",
              "      buttonEl.style.display =\n",
              "        google.colab.kernel.accessAllowed ? 'block' : 'none';\n",
              "\n",
              "      async function convertToInteractive(key) {\n",
              "        const element = document.querySelector('#df-e51360d6-6184-4e89-afa5-b682876f0ecc');\n",
              "        const dataTable =\n",
              "          await google.colab.kernel.invokeFunction('convertToInteractive',\n",
              "                                                    [key], {});\n",
              "        if (!dataTable) return;\n",
              "\n",
              "        const docLinkHtml = 'Like what you see? Visit the ' +\n",
              "          '<a target=\"_blank\" href=https://colab.research.google.com/notebooks/data_table.ipynb>data table notebook</a>'\n",
              "          + ' to learn more about interactive tables.';\n",
              "        element.innerHTML = '';\n",
              "        dataTable['output_type'] = 'display_data';\n",
              "        await google.colab.output.renderOutput(dataTable, element);\n",
              "        const docLink = document.createElement('div');\n",
              "        docLink.innerHTML = docLinkHtml;\n",
              "        element.appendChild(docLink);\n",
              "      }\n",
              "    </script>\n",
              "  </div>\n",
              "\n",
              "\n",
              "    <div id=\"df-1d820280-d2c4-4ea4-8e77-582945f19e57\">\n",
              "      <button class=\"colab-df-quickchart\" onclick=\"quickchart('df-1d820280-d2c4-4ea4-8e77-582945f19e57')\"\n",
              "                title=\"Suggest charts\"\n",
              "                style=\"display:none;\">\n",
              "\n",
              "<svg xmlns=\"http://www.w3.org/2000/svg\" height=\"24px\"viewBox=\"0 0 24 24\"\n",
              "     width=\"24px\">\n",
              "    <g>\n",
              "        <path d=\"M19 3H5c-1.1 0-2 .9-2 2v14c0 1.1.9 2 2 2h14c1.1 0 2-.9 2-2V5c0-1.1-.9-2-2-2zM9 17H7v-7h2v7zm4 0h-2V7h2v10zm4 0h-2v-4h2v4z\"/>\n",
              "    </g>\n",
              "</svg>\n",
              "      </button>\n",
              "\n",
              "<style>\n",
              "  .colab-df-quickchart {\n",
              "      --bg-color: #E8F0FE;\n",
              "      --fill-color: #1967D2;\n",
              "      --hover-bg-color: #E2EBFA;\n",
              "      --hover-fill-color: #174EA6;\n",
              "      --disabled-fill-color: #AAA;\n",
              "      --disabled-bg-color: #DDD;\n",
              "  }\n",
              "\n",
              "  [theme=dark] .colab-df-quickchart {\n",
              "      --bg-color: #3B4455;\n",
              "      --fill-color: #D2E3FC;\n",
              "      --hover-bg-color: #434B5C;\n",
              "      --hover-fill-color: #FFFFFF;\n",
              "      --disabled-bg-color: #3B4455;\n",
              "      --disabled-fill-color: #666;\n",
              "  }\n",
              "\n",
              "  .colab-df-quickchart {\n",
              "    background-color: var(--bg-color);\n",
              "    border: none;\n",
              "    border-radius: 50%;\n",
              "    cursor: pointer;\n",
              "    display: none;\n",
              "    fill: var(--fill-color);\n",
              "    height: 32px;\n",
              "    padding: 0;\n",
              "    width: 32px;\n",
              "  }\n",
              "\n",
              "  .colab-df-quickchart:hover {\n",
              "    background-color: var(--hover-bg-color);\n",
              "    box-shadow: 0 1px 2px rgba(60, 64, 67, 0.3), 0 1px 3px 1px rgba(60, 64, 67, 0.15);\n",
              "    fill: var(--button-hover-fill-color);\n",
              "  }\n",
              "\n",
              "  .colab-df-quickchart-complete:disabled,\n",
              "  .colab-df-quickchart-complete:disabled:hover {\n",
              "    background-color: var(--disabled-bg-color);\n",
              "    fill: var(--disabled-fill-color);\n",
              "    box-shadow: none;\n",
              "  }\n",
              "\n",
              "  .colab-df-spinner {\n",
              "    border: 2px solid var(--fill-color);\n",
              "    border-color: transparent;\n",
              "    border-bottom-color: var(--fill-color);\n",
              "    animation:\n",
              "      spin 1s steps(1) infinite;\n",
              "  }\n",
              "\n",
              "  @keyframes spin {\n",
              "    0% {\n",
              "      border-color: transparent;\n",
              "      border-bottom-color: var(--fill-color);\n",
              "      border-left-color: var(--fill-color);\n",
              "    }\n",
              "    20% {\n",
              "      border-color: transparent;\n",
              "      border-left-color: var(--fill-color);\n",
              "      border-top-color: var(--fill-color);\n",
              "    }\n",
              "    30% {\n",
              "      border-color: transparent;\n",
              "      border-left-color: var(--fill-color);\n",
              "      border-top-color: var(--fill-color);\n",
              "      border-right-color: var(--fill-color);\n",
              "    }\n",
              "    40% {\n",
              "      border-color: transparent;\n",
              "      border-right-color: var(--fill-color);\n",
              "      border-top-color: var(--fill-color);\n",
              "    }\n",
              "    60% {\n",
              "      border-color: transparent;\n",
              "      border-right-color: var(--fill-color);\n",
              "    }\n",
              "    80% {\n",
              "      border-color: transparent;\n",
              "      border-right-color: var(--fill-color);\n",
              "      border-bottom-color: var(--fill-color);\n",
              "    }\n",
              "    90% {\n",
              "      border-color: transparent;\n",
              "      border-bottom-color: var(--fill-color);\n",
              "    }\n",
              "  }\n",
              "</style>\n",
              "\n",
              "      <script>\n",
              "        async function quickchart(key) {\n",
              "          const quickchartButtonEl =\n",
              "            document.querySelector('#' + key + ' button');\n",
              "          quickchartButtonEl.disabled = true;  // To prevent multiple clicks.\n",
              "          quickchartButtonEl.classList.add('colab-df-spinner');\n",
              "          try {\n",
              "            const charts = await google.colab.kernel.invokeFunction(\n",
              "                'suggestCharts', [key], {});\n",
              "          } catch (error) {\n",
              "            console.error('Error during call to suggestCharts:', error);\n",
              "          }\n",
              "          quickchartButtonEl.classList.remove('colab-df-spinner');\n",
              "          quickchartButtonEl.classList.add('colab-df-quickchart-complete');\n",
              "        }\n",
              "        (() => {\n",
              "          let quickchartButtonEl =\n",
              "            document.querySelector('#df-1d820280-d2c4-4ea4-8e77-582945f19e57 button');\n",
              "          quickchartButtonEl.style.display =\n",
              "            google.colab.kernel.accessAllowed ? 'block' : 'none';\n",
              "        })();\n",
              "      </script>\n",
              "    </div>\n",
              "\n",
              "    </div>\n",
              "  </div>\n"
            ],
            "application/vnd.google.colaboratory.intrinsic+json": {
              "type": "dataframe",
              "variable_name": "tienda",
              "summary": "{\n  \"name\": \"tienda\",\n  \"rows\": 2359,\n  \"fields\": [\n    {\n      \"column\": \"Producto\",\n      \"properties\": {\n        \"dtype\": \"category\",\n        \"num_unique_values\": 51,\n        \"samples\": [\n          \"Guitarra ac\\u00fastica\",\n          \"Bal\\u00f3n de baloncesto\",\n          \"Smartwatch\"\n        ],\n        \"semantic_type\": \"\",\n        \"description\": \"\"\n      }\n    },\n    {\n      \"column\": \"Categor\\u00eda del Producto\",\n      \"properties\": {\n        \"dtype\": \"category\",\n        \"num_unique_values\": 8,\n        \"samples\": [\n          \"Muebles\",\n          \"Deportes y diversi\\u00f3n\",\n          \"Electr\\u00f3nicos\"\n        ],\n        \"semantic_type\": \"\",\n        \"description\": \"\"\n      }\n    },\n    {\n      \"column\": \"Precio\",\n      \"properties\": {\n        \"dtype\": \"number\",\n        \"std\": 614686.7653873172,\n        \"min\": 7600.0,\n        \"max\": 2977000.0,\n        \"num_unique_values\": 1937,\n        \"samples\": [\n          2499400.0,\n          14800.0,\n          80500.0\n        ],\n        \"semantic_type\": \"\",\n        \"description\": \"\"\n      }\n    },\n    {\n      \"column\": \"Costo de env\\u00edo\",\n      \"properties\": {\n        \"dtype\": \"number\",\n        \"std\": 32860.0017825605,\n        \"min\": 0.0,\n        \"max\": 160800.0,\n        \"num_unique_values\": 753,\n        \"samples\": [\n          117800.0,\n          54700.0,\n          45600.0\n        ],\n        \"semantic_type\": \"\",\n        \"description\": \"\"\n      }\n    },\n    {\n      \"column\": \"Fecha de Compra\",\n      \"properties\": {\n        \"dtype\": \"object\",\n        \"num_unique_values\": 1018,\n        \"samples\": [\n          \"15/09/2022\",\n          \"03/06/2020\",\n          \"06/11/2021\"\n        ],\n        \"semantic_type\": \"\",\n        \"description\": \"\"\n      }\n    },\n    {\n      \"column\": \"Vendedor\",\n      \"properties\": {\n        \"dtype\": \"category\",\n        \"num_unique_values\": 14,\n        \"samples\": [\n          \"Juliana Costa\",\n          \"Mariana Herrera\",\n          \"Pedro Gomez\"\n        ],\n        \"semantic_type\": \"\",\n        \"description\": \"\"\n      }\n    },\n    {\n      \"column\": \"Lugar de Compra\",\n      \"properties\": {\n        \"dtype\": \"category\",\n        \"num_unique_values\": 19,\n        \"samples\": [\n          \"Bogot\\u00e1\",\n          \"Pereira\",\n          \"Neiva\"\n        ],\n        \"semantic_type\": \"\",\n        \"description\": \"\"\n      }\n    },\n    {\n      \"column\": \"Calificaci\\u00f3n\",\n      \"properties\": {\n        \"dtype\": \"number\",\n        \"std\": 1,\n        \"min\": 1,\n        \"max\": 5,\n        \"num_unique_values\": 5,\n        \"samples\": [\n          1,\n          2,\n          5\n        ],\n        \"semantic_type\": \"\",\n        \"description\": \"\"\n      }\n    },\n    {\n      \"column\": \"M\\u00e9todo de pago\",\n      \"properties\": {\n        \"dtype\": \"category\",\n        \"num_unique_values\": 4,\n        \"samples\": [\n          \"Nequi\",\n          \"Tarjeta de d\\u00e9bito\",\n          \"Tarjeta de cr\\u00e9dito\"\n        ],\n        \"semantic_type\": \"\",\n        \"description\": \"\"\n      }\n    },\n    {\n      \"column\": \"Cantidad de cuotas\",\n      \"properties\": {\n        \"dtype\": \"number\",\n        \"std\": 2,\n        \"min\": 1,\n        \"max\": 24,\n        \"num_unique_values\": 15,\n        \"samples\": [\n          7,\n          14,\n          8\n        ],\n        \"semantic_type\": \"\",\n        \"description\": \"\"\n      }\n    },\n    {\n      \"column\": \"lat\",\n      \"properties\": {\n        \"dtype\": \"number\",\n        \"std\": 2.2874452492678627,\n        \"min\": -4.21528,\n        \"max\": 11.54444,\n        \"num_unique_values\": 19,\n        \"samples\": [\n          4.60971,\n          4.81333,\n          2.9273\n        ],\n        \"semantic_type\": \"\",\n        \"description\": \"\"\n      }\n    },\n    {\n      \"column\": \"lon\",\n      \"properties\": {\n        \"dtype\": \"number\",\n        \"std\": 1.2178272727088486,\n        \"min\": -77.28111,\n        \"max\": -67.9239,\n        \"num_unique_values\": 19,\n        \"samples\": [\n          -74.08175,\n          -75.69611,\n          -75.28189\n        ],\n        \"semantic_type\": \"\",\n        \"description\": \"\"\n      }\n    }\n  ]\n}"
            }
          },
          "metadata": {},
          "execution_count": 1
        }
      ],
      "source": [
        "import pandas as pd\n",
        "\n",
        "url = \"https://raw.githubusercontent.com/alura-es-cursos/challenge1-data-science-latam/refs/heads/main/base-de-datos-challenge1-latam/tienda_1%20.csv\"\n",
        "url2 = \"https://raw.githubusercontent.com/alura-es-cursos/challenge1-data-science-latam/refs/heads/main/base-de-datos-challenge1-latam/tienda_2.csv\"\n",
        "url3 = \"https://raw.githubusercontent.com/alura-es-cursos/challenge1-data-science-latam/refs/heads/main/base-de-datos-challenge1-latam/tienda_3.csv\"\n",
        "url4 = \"https://raw.githubusercontent.com/alura-es-cursos/challenge1-data-science-latam/refs/heads/main/base-de-datos-challenge1-latam/tienda_4.csv\"\n",
        "\n",
        "tienda = pd.read_csv(url)\n",
        "tienda2 = pd.read_csv(url2)\n",
        "tienda3 = pd.read_csv(url3)\n",
        "tienda4 = pd.read_csv(url4)\n",
        "\n",
        "tienda.head()"
      ]
    },
    {
      "cell_type": "markdown",
      "source": [
        "##Instalación de Matplotlib\n"
      ],
      "metadata": {
        "id": "r7g4uB8kpJ5M"
      }
    },
    {
      "cell_type": "code",
      "source": [
        "!pip install matplotlib"
      ],
      "metadata": {
        "colab": {
          "base_uri": "https://localhost:8080/"
        },
        "id": "ooVeHD3spQ4q",
        "outputId": "941c698f-2fc1-4a60-df83-4a48cab63177"
      },
      "execution_count": 2,
      "outputs": [
        {
          "output_type": "stream",
          "name": "stdout",
          "text": [
            "Requirement already satisfied: matplotlib in /usr/local/lib/python3.11/dist-packages (3.10.0)\n",
            "Requirement already satisfied: contourpy>=1.0.1 in /usr/local/lib/python3.11/dist-packages (from matplotlib) (1.3.2)\n",
            "Requirement already satisfied: cycler>=0.10 in /usr/local/lib/python3.11/dist-packages (from matplotlib) (0.12.1)\n",
            "Requirement already satisfied: fonttools>=4.22.0 in /usr/local/lib/python3.11/dist-packages (from matplotlib) (4.59.0)\n",
            "Requirement already satisfied: kiwisolver>=1.3.1 in /usr/local/lib/python3.11/dist-packages (from matplotlib) (1.4.8)\n",
            "Requirement already satisfied: numpy>=1.23 in /usr/local/lib/python3.11/dist-packages (from matplotlib) (2.0.2)\n",
            "Requirement already satisfied: packaging>=20.0 in /usr/local/lib/python3.11/dist-packages (from matplotlib) (25.0)\n",
            "Requirement already satisfied: pillow>=8 in /usr/local/lib/python3.11/dist-packages (from matplotlib) (11.3.0)\n",
            "Requirement already satisfied: pyparsing>=2.3.1 in /usr/local/lib/python3.11/dist-packages (from matplotlib) (3.2.3)\n",
            "Requirement already satisfied: python-dateutil>=2.7 in /usr/local/lib/python3.11/dist-packages (from matplotlib) (2.9.0.post0)\n",
            "Requirement already satisfied: six>=1.5 in /usr/local/lib/python3.11/dist-packages (from python-dateutil>=2.7->matplotlib) (1.17.0)\n"
          ]
        }
      ]
    },
    {
      "cell_type": "code",
      "source": [
        "import matplotlib.pyplot as plt"
      ],
      "metadata": {
        "id": "mjCfF3Z1piqx"
      },
      "execution_count": 3,
      "outputs": []
    },
    {
      "cell_type": "code",
      "source": [
        "plt.show()"
      ],
      "metadata": {
        "id": "-UpAbiu_pkXO"
      },
      "execution_count": 4,
      "outputs": []
    },
    {
      "cell_type": "markdown",
      "source": [
        "#1. Análisis de facturación\n",
        "\n"
      ],
      "metadata": {
        "id": "X62IW3KFUIYm"
      }
    },
    {
      "cell_type": "code",
      "source": [
        "Ingreso_Uno = tienda['Precio']\n",
        "Ingreso_Dos = tienda2['Precio']\n",
        "Ingreso_Tres = tienda3['Precio']\n",
        "Ingreso_Cua = tienda4['Precio']\n",
        "\n",
        "\n",
        "\n",
        "def ingresos_tienda(ingresos):\n",
        "  suma_precios = 0\n",
        "  for ingreso in ingresos:\n",
        "    suma_precios += ingreso\n",
        "  print(f'Los ingresos totales en la tienda son: {suma_precios}')\n",
        "\n",
        "ingresos_tienda(Ingreso_Uno)\n",
        "ingresos_tienda(Ingreso_Dos)\n",
        "ingresos_tienda(Ingreso_Tres)\n",
        "ingresos_tienda(Ingreso_Cua)\n"
      ],
      "metadata": {
        "id": "KDyr8E71V3m-",
        "colab": {
          "base_uri": "https://localhost:8080/"
        },
        "outputId": "af76652c-b7dd-4b35-854e-640e441bdd20"
      },
      "execution_count": 5,
      "outputs": [
        {
          "output_type": "stream",
          "name": "stdout",
          "text": [
            "Los ingresos totales en la tienda son: 1150880400.0\n",
            "Los ingresos totales en la tienda son: 1116343500.0\n",
            "Los ingresos totales en la tienda son: 1098019600.0\n",
            "Los ingresos totales en la tienda son: 1038375700.0\n"
          ]
        }
      ]
    },
    {
      "cell_type": "code",
      "source": [
        "Ingresos_Totales = [1150880400.0, 1116343500.0, 1098019600.0,1038375700.0]\n",
        "Tiendas = ['Tienda 1', 'Tienda 2', 'Tienda 3', 'Tienda 4']"
      ],
      "metadata": {
        "id": "FxWEUSugl2we"
      },
      "execution_count": 6,
      "outputs": []
    },
    {
      "cell_type": "code",
      "source": [
        "c = ['deeppink', 'mediumpurple', 'aqua', 'lightcoral']\n",
        "\n",
        "ax = plt.gca()\n",
        "ax.set_title('Análisis de facturación', loc='center', fontdict = {'fontsize':14, 'fontweight':'bold', 'color':'black'})\n",
        "ax.set_xlabel('Tiendas', loc='center', fontdict = {'fontsize':10, 'fontweight':'bold', 'color':'black'})\n",
        "ax.set_ylabel('Ingresos totales', loc='center', fontdict = {'fontsize':10, 'fontweight':'bold', 'color':'black'})\n",
        "plt.bar(x=Tiendas, height=Ingresos_Totales, color=c)\n",
        "plt.show()"
      ],
      "metadata": {
        "colab": {
          "base_uri": "https://localhost:8080/",
          "height": 473
        },
        "id": "pwt3rDFQpxGL",
        "outputId": "96ffc301-f10b-4f0d-9503-2aeabb779ece"
      },
      "execution_count": 34,
      "outputs": [
        {
          "output_type": "display_data",
          "data": {
            "text/plain": [
              "<Figure size 640x480 with 1 Axes>"
            ],
            "image/png": "[encoded data removed]"
          },
          "metadata": {}
        }
      ]
    },
    {
      "cell_type": "markdown",
      "source": [
        "# 2. Ventas por categoría"
      ],
      "metadata": {
        "id": "2V_vcAPzWZmR"
      }
    },
    {
      "cell_type": "code",
      "source": [
        "Categoria_Uno = tienda['Categoría del Producto']\n",
        "Categoria_Dos = tienda2['Categoría del Producto']\n",
        "Categoria_Tres = tienda3['Categoría del Producto']\n",
        "Categoria_Cua = tienda4['Categoría del Producto']"
      ],
      "metadata": {
        "id": "A34YupIuYhfF"
      },
      "execution_count": 8,
      "outputs": []
    },
    {
      "cell_type": "code",
      "source": [
        "from collections import Counter"
      ],
      "metadata": {
        "id": "yZR6cOjXYSk1"
      },
      "execution_count": 9,
      "outputs": []
    },
    {
      "cell_type": "code",
      "source": [
        "def ventas_Tienda(categoria):\n",
        "  ventas_totales = Counter(categoria)\n",
        "  print(ventas_totales)\n",
        "\n",
        "ventas_Tienda(Categoria_Uno)\n",
        "ventas_Tienda(Categoria_Dos)\n",
        "ventas_Tienda(Categoria_Tres)\n",
        "ventas_Tienda(Categoria_Cua)"
      ],
      "metadata": {
        "colab": {
          "base_uri": "https://localhost:8080/"
        },
        "id": "aK-gnXs4yyjN",
        "outputId": "462214b9-7e01-4ad9-8846-008e130d2114"
      },
      "execution_count": 10,
      "outputs": [
        {
          "output_type": "stream",
          "name": "stdout",
          "text": [
            "Counter({'Muebles': 465, 'Electrónicos': 448, 'Juguetes': 324, 'Electrodomésticos': 312, 'Deportes y diversión': 284, 'Instrumentos musicales': 182, 'Libros': 173, 'Artículos para el hogar': 171})\n",
            "Counter({'Muebles': 442, 'Electrónicos': 422, 'Juguetes': 313, 'Electrodomésticos': 305, 'Deportes y diversión': 275, 'Instrumentos musicales': 224, 'Libros': 197, 'Artículos para el hogar': 181})\n",
            "Counter({'Muebles': 499, 'Electrónicos': 451, 'Juguetes': 315, 'Electrodomésticos': 278, 'Deportes y diversión': 277, 'Libros': 185, 'Instrumentos musicales': 177, 'Artículos para el hogar': 177})\n",
            "Counter({'Muebles': 480, 'Electrónicos': 451, 'Juguetes': 338, 'Deportes y diversión': 277, 'Electrodomésticos': 254, 'Artículos para el hogar': 201, 'Libros': 187, 'Instrumentos musicales': 170})\n"
          ]
        }
      ]
    },
    {
      "cell_type": "code",
      "source": [
        "Populares_Uno = Counter({'Muebles': 465, 'Electrónicos': 448, 'Juguetes': 324, 'Electrodomésticos': 312, 'Deportes y diversión': 284, 'Instrumentos musicales': 182, 'Libros': 173, 'Artículos para el hogar': 171})\n",
        "Populares_Dos = Counter({'Muebles': 442, 'Electrónicos': 422, 'Juguetes': 313, 'Electrodomésticos': 305, 'Deportes y diversión': 275, 'Instrumentos musicales': 224, 'Libros': 197, 'Artículos para el hogar': 181})\n",
        "Populares_Tres = Counter({'Muebles': 499, 'Electrónicos': 451, 'Juguetes': 315, 'Electrodomésticos': 278, 'Deportes y diversión': 277, 'Libros': 185, 'Instrumentos musicales': 177, 'Artículos para el hogar': 177})\n",
        "Populares_Cua = Counter({'Muebles': 480, 'Electrónicos': 451, 'Juguetes': 338, 'Deportes y diversión': 277, 'Electrodomésticos': 254, 'Artículos para el hogar': 201, 'Libros': 187, 'Instrumentos musicales': 170})\n",
        "\n"
      ],
      "metadata": {
        "id": "anQYQVNe5LFf"
      },
      "execution_count": 11,
      "outputs": []
    },
    {
      "cell_type": "code",
      "source": [
        "!pip install tabulate"
      ],
      "metadata": {
        "colab": {
          "base_uri": "https://localhost:8080/"
        },
        "id": "KgbQUu9lChmD",
        "outputId": "fe39b136-c1cd-48af-fdd1-445ce785ce32"
      },
      "execution_count": 12,
      "outputs": [
        {
          "output_type": "stream",
          "name": "stdout",
          "text": [
            "Requirement already satisfied: tabulate in /usr/local/lib/python3.11/dist-packages (0.9.0)\n"
          ]
        }
      ]
    },
    {
      "cell_type": "code",
      "source": [
        "from tabulate import tabulate"
      ],
      "metadata": {
        "id": "iVvtSWgN79I5"
      },
      "execution_count": 13,
      "outputs": []
    },
    {
      "cell_type": "code",
      "source": [
        "from tabulate import tabulate\n",
        "\n",
        "populares = [\n",
        "    ['Tienda 1', 'Muebles', 465],\n",
        "    ['Tienda 2', 'Muebles', 442],\n",
        "    ['Tienda 3', 'Muebles', 499],\n",
        "    ['Tienda 4', 'Muebles', 480]\n",
        "]\n",
        "\n",
        "table = tabulate(\n",
        "    populares,\n",
        "    headers=['Tienda', 'Categoría popular', 'Número de ventas'],\n",
        "    tablefmt='grid'\n",
        ")\n",
        "\n",
        "print(table)\n"
      ],
      "metadata": {
        "colab": {
          "base_uri": "https://localhost:8080/"
        },
        "id": "fIYAa7H7DCzy",
        "outputId": "cc7dcb20-26c7-47f4-88c5-f72ed742ecb6"
      },
      "execution_count": 14,
      "outputs": [
        {
          "output_type": "stream",
          "name": "stdout",
          "text": [
            "+----------+---------------------+--------------------+\n",
            "| Tienda   | Categoría popular   |   Número de ventas |\n",
            "+==========+=====================+====================+\n",
            "| Tienda 1 | Muebles             |                465 |\n",
            "+----------+---------------------+--------------------+\n",
            "| Tienda 2 | Muebles             |                442 |\n",
            "+----------+---------------------+--------------------+\n",
            "| Tienda 3 | Muebles             |                499 |\n",
            "+----------+---------------------+--------------------+\n",
            "| Tienda 4 | Muebles             |                480 |\n",
            "+----------+---------------------+--------------------+\n"
          ]
        }
      ]
    },
    {
      "cell_type": "code",
      "source": [
        "numero_ventas = [465, 442, 499, 480]\n",
        "Tiendas = ['Tienda 1', 'Tienda 2', 'Tienda 3', 'Tienda 4']"
      ],
      "metadata": {
        "id": "7tlBA8USFcd8"
      },
      "execution_count": 15,
      "outputs": []
    },
    {
      "cell_type": "code",
      "source": [
        "fig, ax = plt.subplots()\n",
        "ax.plot(['Tienda 1', 'Tienda 2', 'Tienda 3', 'Tienda 4'], [465, 442, 499, 480], linestyle='dotted')\n",
        "ax.set_title('Ventas por categoría (muebles) ', loc='center', fontdict = {'fontsize':14, 'fontweight':'bold', 'color':'black'})\n",
        "ax.set_xlabel('Tiendas', loc='center', fontdict = {'fontsize':10, 'fontweight':'bold', 'color':'black'})\n",
        "ax.set_ylabel('Numero de ventas', loc='center', fontdict = {'fontsize':10, 'fontweight':'bold', 'color':'black'})\n",
        "\n",
        "\n",
        "plt.show()"
      ],
      "metadata": {
        "colab": {
          "base_uri": "https://localhost:8080/",
          "height": 473
        },
        "outputId": "89d45f1f-de32-40ab-8a36-5be92dce642d",
        "collapsed": true,
        "id": "2X9L4BB3F2eo"
      },
      "execution_count": 35,
      "outputs": [
        {
          "output_type": "display_data",
          "data": {
            "text/plain": [
              "<Figure size 640x480 with 1 Axes>"
            ],
            "image/png": "[encoded data removed]"
          },
          "metadata": {}
        }
      ]
    },
    {
      "cell_type": "markdown",
      "source": [
        "# 3. Calificación promedio de la tienda\n"
      ],
      "metadata": {
        "id": "Rq6tU_xSY3jk"
      }
    },
    {
      "cell_type": "code",
      "source": [
        "Cal_Uno = tienda['Calificación']\n",
        "Cal_Dos = tienda2['Calificación']\n",
        "Cal_Tres = tienda3['Calificación']\n",
        "Cal_Cua = tienda4['Calificación']"
      ],
      "metadata": {
        "id": "bh3jjjJwY5MU"
      },
      "execution_count": 17,
      "outputs": []
    },
    {
      "cell_type": "code",
      "source": [
        "def calificacion(valores):\n",
        "  Val_medio = sum(valores)/len(valores)\n",
        "  print(f'El promedio de valoraciones de la tienda es {Val_medio}')\n",
        "\n",
        "calificacion(Cal_Uno)\n",
        "calificacion(Cal_Dos)\n",
        "calificacion(Cal_Tres)\n",
        "calificacion(Cal_Cua)\n"
      ],
      "metadata": {
        "id": "I0KkjPoTY88F",
        "colab": {
          "base_uri": "https://localhost:8080/"
        },
        "outputId": "fd2a5f88-0e1d-4429-aa73-72b1f1c589fc"
      },
      "execution_count": 18,
      "outputs": [
        {
          "output_type": "stream",
          "name": "stdout",
          "text": [
            "El promedio de valoraciones de la tienda es 3.976685036032217\n",
            "El promedio de valoraciones de la tienda es 4.037303942348453\n",
            "El promedio de valoraciones de la tienda es 4.048325561678677\n",
            "El promedio de valoraciones de la tienda es 3.9957591178965224\n"
          ]
        }
      ]
    },
    {
      "cell_type": "code",
      "source": [
        "from tabulate import tabulate\n",
        "\n",
        "Valoracion_tienda = [\n",
        "    ['Tienda 1', 3.97],\n",
        "    ['Tienda 2', 4.03],\n",
        "    ['Tienda 3', 4.04],\n",
        "    ['Tienda 4', 3.99]\n",
        "]\n",
        "\n",
        "table = tabulate(\n",
        "    Valoracion_tienda,\n",
        "    headers=['Tienda', 'Valoración promedio'],\n",
        "    tablefmt='grid'\n",
        ")\n",
        "\n",
        "print(table)"
      ],
      "metadata": {
        "colab": {
          "base_uri": "https://localhost:8080/"
        },
        "id": "fNIMd3R8eMrc",
        "outputId": "2cb623ea-4514-4e23-f76f-8e59407f36e7"
      },
      "execution_count": 19,
      "outputs": [
        {
          "output_type": "stream",
          "name": "stdout",
          "text": [
            "+----------+-----------------------+\n",
            "| Tienda   |   Valoración promedio |\n",
            "+==========+=======================+\n",
            "| Tienda 1 |                  3.97 |\n",
            "+----------+-----------------------+\n",
            "| Tienda 2 |                  4.03 |\n",
            "+----------+-----------------------+\n",
            "| Tienda 3 |                  4.04 |\n",
            "+----------+-----------------------+\n",
            "| Tienda 4 |                  3.99 |\n",
            "+----------+-----------------------+\n"
          ]
        }
      ]
    },
    {
      "cell_type": "code",
      "source": [
        "val_prom = [3.97, 4.03, 4.04, 3.99]\n",
        "Tiendas = ['Tienda 1', 'Tienda 2', 'Tienda 3', 'Tienda 4']"
      ],
      "metadata": {
        "id": "pxdU4jJnZKmL"
      },
      "execution_count": 36,
      "outputs": []
    },
    {
      "cell_type": "code",
      "source": [
        "fig, ax = plt.subplots()\n",
        "ax.plot(['Tienda 1', 'Tienda 2', 'Tienda 3', 'Tienda 4'], [3.97, 4.03, 4.04, 3.99], linestyle='dotted', marker='*', color='goldenrod')\n",
        "ax.set_title('Valoración promedio ', loc='center', fontdict = {'fontsize':14, 'fontweight':'bold', 'color':'black'})\n",
        "ax.set_xlabel('Tiendas', loc='center', fontdict = {'fontsize':10, 'fontweight':'bold', 'color':'black'})\n",
        "ax.set_ylabel('Valoración', loc='center', fontdict = {'fontsize':10, 'fontweight':'bold', 'color':'black'})\n",
        "\n",
        "\n",
        "plt.show()"
      ],
      "metadata": {
        "colab": {
          "base_uri": "https://localhost:8080/",
          "height": 474
        },
        "id": "M9rvmTUGZ5OC",
        "outputId": "a5aeeb3e-3e17-4c7a-bc0a-833b99f64a8b"
      },
      "execution_count": 40,
      "outputs": [
        {
          "output_type": "display_data",
          "data": {
            "text/plain": [
              "<Figure size 640x480 with 1 Axes>"
            ],
            "image/png": "[encoded data removed]"
          },
          "metadata": {}
        }
      ]
    },
    {
      "cell_type": "markdown",
      "source": [
        "# 4. Productos más y menos vendidos"
      ],
      "metadata": {
        "id": "DmNp1KPBZCm-"
      }
    },
    {
      "cell_type": "code",
      "source": [
        "from tabulate import tabulate\n",
        "\n",
        "Queridos_no = [\n",
        "    ['Tienda 1','Muebles', 465, 'Artículos para el hogar', 171 ],\n",
        "    ['Tienda 2','Muebles', 442, 'Artículos para el hogar', 181],\n",
        "    ['Tienda 3','Muebles', 499, 'Artículos para el hogar', 177 ],\n",
        "    ['Tienda 4','Muebles', 480, 'Instrumentos musicales', 170]\n",
        "]\n",
        "\n",
        "table = tabulate(\n",
        "    Queridos_no,\n",
        "    headers=['Tienda', 'Categoria popular', 'Cantidad vendida', 'Categoría menos popular', 'Cantidad vendida'],\n",
        "    tablefmt='grid'\n",
        ")\n",
        "\n",
        "print(table)\n",
        "\n",
        "\n"
      ],
      "metadata": {
        "id": "qoyjqijQZHfF",
        "colab": {
          "base_uri": "https://localhost:8080/"
        },
        "outputId": "50201585-2bd8-46e5-c9d7-afe2076a2c0b"
      },
      "execution_count": 20,
      "outputs": [
        {
          "output_type": "stream",
          "name": "stdout",
          "text": [
            "+----------+---------------------+--------------------+---------------------------+--------------------+\n",
            "| Tienda   | Categoria popular   |   Cantidad vendida | Categoría menos popular   |   Cantidad vendida |\n",
            "+==========+=====================+====================+===========================+====================+\n",
            "| Tienda 1 | Muebles             |                465 | Artículos para el hogar   |                171 |\n",
            "+----------+---------------------+--------------------+---------------------------+--------------------+\n",
            "| Tienda 2 | Muebles             |                442 | Artículos para el hogar   |                181 |\n",
            "+----------+---------------------+--------------------+---------------------------+--------------------+\n",
            "| Tienda 3 | Muebles             |                499 | Artículos para el hogar   |                177 |\n",
            "+----------+---------------------+--------------------+---------------------------+--------------------+\n",
            "| Tienda 4 | Muebles             |                480 | Instrumentos musicales    |                170 |\n",
            "+----------+---------------------+--------------------+---------------------------+--------------------+\n"
          ]
        }
      ]
    },
    {
      "cell_type": "markdown",
      "source": [
        "# 5. Envío promedio por tienda"
      ],
      "metadata": {
        "id": "Fl0cGi3bZKqU"
      }
    },
    {
      "cell_type": "code",
      "source": [
        "Envio_Uno = tienda['Costo de envío']\n",
        "Envio_Dos = tienda2['Costo de envío']\n",
        "Envio_Tres = tienda3['Costo de envío']\n",
        "Envio_Cua = tienda4['Costo de envío']"
      ],
      "metadata": {
        "id": "9l35qAIlkkQn"
      },
      "execution_count": 21,
      "outputs": []
    },
    {
      "cell_type": "code",
      "source": [
        "def costo_me(costos):\n",
        "  costos_prom = sum(costos)/len(costos)\n",
        "  print(f'El promedio de costos por envío de la tienda es {costos_prom}')\n",
        "\n",
        "costo_me(Envio_Uno)\n",
        "costo_me(Envio_Dos)\n",
        "costo_me(Envio_Tres)\n",
        "costo_me(Envio_Cua)"
      ],
      "metadata": {
        "id": "S2JeaCykZNy9",
        "colab": {
          "base_uri": "https://localhost:8080/"
        },
        "outputId": "e74c377c-c894-4d6c-ee84-54d701599dab"
      },
      "execution_count": 22,
      "outputs": [
        {
          "output_type": "stream",
          "name": "stdout",
          "text": [
            "El promedio de costos por envío de la tienda es 26018.60958033065\n",
            "El promedio de costos por envío de la tienda es 25216.235693090293\n",
            "El promedio de costos por envío de la tienda es 24805.680373039424\n",
            "El promedio de costos por envío de la tienda es 23459.457167090754\n"
          ]
        }
      ]
    },
    {
      "cell_type": "code",
      "source": [
        "from tabulate import tabulate\n",
        "\n",
        "costos_prom_tienda = [\n",
        "    ['Tienda 1', 26018.60],\n",
        "    ['Tienda 2', 25216.23],\n",
        "    ['Tienda 3', 24805.68],\n",
        "    ['Tienda 4', 23456.41]\n",
        "]\n",
        "\n",
        "table = tabulate(\n",
        "    costos_prom_tienda,\n",
        "    headers=['Tienda', 'Costos promedio de envío'],\n",
        "    tablefmt='grid'\n",
        ")\n",
        "\n",
        "print(table)"
      ],
      "metadata": {
        "id": "0tSdCie9ZQlt",
        "colab": {
          "base_uri": "https://localhost:8080/"
        },
        "outputId": "9b92592e-dedf-4620-c3ac-ba7554a91a45"
      },
      "execution_count": 23,
      "outputs": [
        {
          "output_type": "stream",
          "name": "stdout",
          "text": [
            "+----------+----------------------------+\n",
            "| Tienda   |   Costos promedio de envío |\n",
            "+==========+============================+\n",
            "| Tienda 1 |                    26018.6 |\n",
            "+----------+----------------------------+\n",
            "| Tienda 2 |                    25216.2 |\n",
            "+----------+----------------------------+\n",
            "| Tienda 3 |                    24805.7 |\n",
            "+----------+----------------------------+\n",
            "| Tienda 4 |                    23456.4 |\n",
            "+----------+----------------------------+\n"
          ]
        }
      ]
    },
    {
      "cell_type": "code",
      "source": [
        "fig, ax = plt.subplots()\n",
        "c = ['deeppink', 'mediumpurple', 'aqua', 'lightcoral']\n",
        "tiendas_envio = ['Tienda 1', 'Tienda 2', 'Tienda 3', 'Tienda 4']\n",
        "costo_envi = [26018.6, 25216.2, 24805.7, 23456.4]\n",
        "ax.pie(costo_envi, labels=tiendas_envio, colors=c , hatch=['**O', 'oO', 'O.O', '.||.'])\n",
        "ax.set_title('Costos promedio de envío', loc='center', fontdict = {'fontsize':14, 'fontweight':'bold', 'color':'black'})\n",
        "\n",
        "plt.show()"
      ],
      "metadata": {
        "colab": {
          "base_uri": "https://localhost:8080/",
          "height": 430
        },
        "id": "3crYKsWYcf1A",
        "outputId": "753e46d1-e360-417e-bdab-368f466ba47b"
      },
      "execution_count": 56,
      "outputs": [
        {
          "output_type": "display_data",
          "data": {
            "text/plain": [
              "<Figure size 640x480 with 1 Axes>"
            ],
            "image/png": "[encoded data removed]"
          },
          "metadata": {}
        }
      ]
    },
    {
      "cell_type": "markdown",
      "source": [
        "#**INFORME FINAL**\n",
        "\n",
        "A quien corresponda:\n",
        "\n",
        "A continuación se muestra el análisis solicitado dada la problemática presentada.\n",
        "\n",
        "Al decidir qué tienda vender, debemos considerar qué tienda ofrece el menor rendimiento general y tiene el menor potencial de crecimiento o la mayor carga operativa.\n",
        "\n",
        "* Tienda 1: Aunque tiene los ingresos más altos, también tiene los\n",
        "costos de envío más elevados y la valoración promedio más baja. Sus ventas en la categoría de muebles son intermedias.\n",
        "\n",
        "* Tienda 2: Tiene las ventas más bajas en muebles y unos ingresos totales decentes. Sus costos de envío son intermedios y su valoración promedio es buena.\n",
        "\n",
        "* Tienda 3: Lidera en ventas de muebles y valoración promedio, y tiene costos de envío relativamente bajos. Sus ingresos totales son buenos, aunque no los más altos. Esta es la tienda con el mejor rendimiento general.\n",
        "\n",
        "* Tienda 4: Presenta los ingresos totales más bajos, aunque tiene los costos de envío más eficientes. Sus ventas de muebles son buenas y su valoración es intermedia.\n",
        "\n",
        "###Recomendación\n",
        "\n",
        "Basado en el análisis, la Tienda 4 parece ser la candidata más adecuada para ser vendida.\n",
        "\n",
        "###Justificación:\n",
        "\n",
        "* Ingresos Totales Más Bajos: La Tienda 4 registra los ingresos totales más bajos de las cuatro tiendas, lo que la hace la menos rentable en términos de facturación bruta.\n",
        "\n",
        "* Rentabilidad Relativa: Aunque tiene los costos de envío más bajos, sus menores ingresos generales sugieren que su margen de beneficio podría ser menor en comparación con las otras tiendas si no se compensa con un volumen de ventas significativamente mayor en otras categorías.\n",
        "\n",
        "* Potencial de Crecimiento: Mientras que las otras tiendas muestran un rendimiento más consistente o superior en métricas clave (ventas de muebles, valoración), la Tienda 4, a pesar de su eficiencia en costos de envío, no destaca lo suficiente en otras áreas para compensar sus ingresos brutos más bajos.\n",
        "\n",
        "* Vender la Tienda 4 permitiría a la cadena Alura Store liberar capital de una de sus operaciones con menor facturación, lo cual podría ser reinvertido en el nuevo emprendimiento o en la mejora y expansión de las tres tiendas restantes, que muestran un rendimiento más sólido y un mayor potencial.\n",
        "\n",
        "####**En resumen, la Tienda 4 es la que presenta la menor contribución a los ingresos totales de la cadena, convirtiéndola en la opción más lógica para ser desinvertida con el fin de financiar una nueva iniciativa.**\n",
        "\n"
      ],
      "metadata": {
        "id": "579sBMP33Pir"
      }
    }
  ]
}